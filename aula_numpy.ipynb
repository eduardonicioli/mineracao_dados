{
 "cells": [
  {
   "cell_type": "code",
   "execution_count": 4,
   "metadata": {},
   "outputs": [],
   "source": [
    "import numpy as np"
   ]
  },
  {
   "cell_type": "code",
   "execution_count": 5,
   "metadata": {},
   "outputs": [
    {
     "name": "stdout",
     "output_type": "stream",
     "text": [
      "[ 12  13  14  15  16 167]\n",
      "<class 'numpy.ndarray'>\n"
     ]
    }
   ],
   "source": [
    "matriz = np.array([12,13,14,15,16,167])\n",
    "print(matriz)\n",
    "print(type(matriz))"
   ]
  },
  {
   "cell_type": "code",
   "execution_count": 7,
   "metadata": {},
   "outputs": [
    {
     "name": "stdout",
     "output_type": "stream",
     "text": [
      "[1. 2. 3.]\n"
     ]
    }
   ],
   "source": [
    "matrizfloat = np.array([1,2,3], dtype = np.float64)\n",
    "print(matrizfloat)"
   ]
  },
  {
   "cell_type": "code",
   "execution_count": 9,
   "metadata": {},
   "outputs": [
    {
     "name": "stdout",
     "output_type": "stream",
     "text": [
      "[0.50610733 0.28048035 0.92256    0.18893213 0.87511619]\n"
     ]
    }
   ],
   "source": [
    "aleatorio = np.random.random((5))\n",
    "print(aleatorio)"
   ]
  },
  {
   "cell_type": "code",
   "execution_count": 11,
   "metadata": {},
   "outputs": [
    {
     "name": "stdout",
     "output_type": "stream",
     "text": [
      "[[0.63431114 0.39392921 0.40661544]\n",
      " [0.67977189 0.69044005 0.80638796]\n",
      " [0.91239005 0.06881665 0.37543803]\n",
      " [0.49440879 0.46110109 0.84061013]\n",
      " [0.62679924 0.79286332 0.86930611]]\n"
     ]
    }
   ],
   "source": [
    "aleatorio = np.random.random((5,3))\n",
    "print(aleatorio)"
   ]
  },
  {
   "cell_type": "code",
   "execution_count": 16,
   "metadata": {},
   "outputs": [
    {
     "name": "stdout",
     "output_type": "stream",
     "text": [
      "[10 11 12 13 14 11 10 15 19 20]\n",
      "[10 11 12 13 14 15 19 20]\n"
     ]
    }
   ],
   "source": [
    "numeros = np.array([10,11,12,13,14,11,10,15,19,20])\n",
    "print(numeros)\n",
    "numeros = np.unique(numeros)\n",
    "print(numeros)"
   ]
  }
 ],
 "metadata": {
  "kernelspec": {
   "display_name": "Python 3",
   "language": "python",
   "name": "python3"
  },
  "language_info": {
   "codemirror_mode": {
    "name": "ipython",
    "version": 3
   },
   "file_extension": ".py",
   "mimetype": "text/x-python",
   "name": "python",
   "nbconvert_exporter": "python",
   "pygments_lexer": "ipython3",
   "version": "3.12.3"
  }
 },
 "nbformat": 4,
 "nbformat_minor": 2
}
