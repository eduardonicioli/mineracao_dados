{
 "cells": [
  {
   "cell_type": "code",
   "execution_count": 180,
   "metadata": {},
   "outputs": [],
   "source": [
    "import pandas as pd\n",
    "import seaborn as sns\n",
    "import statistics as sts"
   ]
  },
  {
   "cell_type": "code",
   "execution_count": 181,
   "metadata": {},
   "outputs": [
    {
     "name": "stdout",
     "output_type": "stream",
     "text": [
      "  Aparencia  Temperatura  Umidade       Vento Jogar\n",
      "0       sol           85     85.0       FALSO   nao\n",
      "1       sol           80     90.0  VERDADEIRO   nao\n",
      "2   nublado           83     86.0       FALSO   sim\n",
      "3     chuva           70      NaN       FALSO   sim\n",
      "4     chuva           68     80.0       FALSO   sim\n"
     ]
    }
   ],
   "source": [
    "# Carregar o arquivo CSV\n",
    "df = pd.read_csv('tempo.csv', sep=';')\n",
    "\n",
    "# Visualizar as primeiras linhas do DataFrame\n",
    "print(df.head())"
   ]
  },
  {
   "cell_type": "code",
   "execution_count": 182,
   "metadata": {},
   "outputs": [
    {
     "name": "stdout",
     "output_type": "stream",
     "text": [
      "<class 'pandas.core.frame.DataFrame'>\n",
      "RangeIndex: 14 entries, 0 to 13\n",
      "Data columns (total 5 columns):\n",
      " #   Column       Non-Null Count  Dtype  \n",
      "---  ------       --------------  -----  \n",
      " 0   Aparencia    14 non-null     object \n",
      " 1   Temperatura  14 non-null     int64  \n",
      " 2   Umidade      13 non-null     float64\n",
      " 3   Vento        13 non-null     object \n",
      " 4   Jogar        14 non-null     object \n",
      "dtypes: float64(1), int64(1), object(3)\n",
      "memory usage: 692.0+ bytes\n",
      "None\n",
      "Aparencia      0\n",
      "Temperatura    0\n",
      "Umidade        1\n",
      "Vento          1\n",
      "Jogar          0\n",
      "dtype: int64\n",
      "Valores únicos na coluna 'Aparencia': ['sol' 'nublado' 'chuva' 'menos']\n",
      "Valores únicos na coluna 'Temperatura': [  85   80   83   70   68   65   64 1220   69   75   72   81   71]\n",
      "Valores únicos na coluna 'Umidade': [ 85.  90.  86.  nan  80.  70.  65.  95. 200.  75.  91.]\n",
      "Valores únicos na coluna 'Vento': ['FALSO' 'VERDADEIRO' nan]\n",
      "Valores únicos na coluna 'Jogar': ['nao' 'sim']\n"
     ]
    }
   ],
   "source": [
    "# Verificar informações básicas sobre o DataFrame\n",
    "print(df.info())\n",
    "\n",
    "# Verificar valores nulos\n",
    "print(df.isnull().sum())\n",
    "\n",
    "# Verificar valores únicos em cada coluna\n",
    "for col in df.columns:\n",
    "    print(f\"Valores únicos na coluna '{col}': {df[col].unique()}\")"
   ]
  },
  {
   "cell_type": "code",
   "execution_count": 184,
   "metadata": {},
   "outputs": [],
   "source": [
    "# Calcular a moda da coluna \"Vento\"\n",
    "moda_vento = df['Vento'].mode()[0]\n",
    "\n",
    "# Preencher valores nulos com a moda\n",
    "df['Vento'].fillna(moda_vento, inplace=True)"
   ]
  },
  {
   "cell_type": "markdown",
   "metadata": {},
   "source": [
    "Tratar os valores nulos"
   ]
  },
  {
   "cell_type": "code",
   "execution_count": 185,
   "metadata": {},
   "outputs": [],
   "source": [
    "# Valores permitidos\n",
    "valores_permitidos_aparencia = ['sol', 'nublado', 'chuva']\n",
    "\n",
    "# Identificar valores inconsistentes\n",
    "df['Aparencia'] = df['Aparencia'].apply(lambda x: x if x in valores_permitidos_aparencia else df['Aparencia'].mode()[0])"
   ]
  },
  {
   "cell_type": "markdown",
   "metadata": {},
   "source": [
    " Filtrar valores fora do intervalo permitido"
   ]
  },
  {
   "cell_type": "code",
   "execution_count": 186,
   "metadata": {},
   "outputs": [],
   "source": [
    "# Filtrar valores válidos (-130 a 130) para calcular a média\n",
    "temperatura_valida = df['Temperatura'][(df['Temperatura'] >= -130) & (df['Temperatura'] <= 130)]\n",
    "\n",
    "# Calcular a média\n",
    "media_temperatura = temperatura_valida.mean()\n",
    "\n",
    "# Substituir valores fora do intervalo pela média\n",
    "df['Temperatura'] = df['Temperatura'].apply(lambda x: media_temperatura if x < -130 or x > 130 else x)"
   ]
  },
  {
   "cell_type": "code",
   "execution_count": 188,
   "metadata": {},
   "outputs": [
    {
     "name": "stdout",
     "output_type": "stream",
     "text": [
      "   Aparencia  Temperatura  Umidade       Vento Jogar\n",
      "0        sol    85.000000     85.0       FALSO   nao\n",
      "1        sol    80.000000     90.0  VERDADEIRO   nao\n",
      "2    nublado    83.000000     86.0       FALSO   sim\n",
      "3      chuva    70.000000     82.5       FALSO   sim\n",
      "4      chuva    68.000000     80.0       FALSO   sim\n",
      "5      chuva    65.000000     70.0  VERDADEIRO   nao\n",
      "6      chuva    64.000000     65.0  VERDADEIRO   sim\n",
      "7        sol    73.692308     95.0       FALSO   nao\n",
      "8        sol    69.000000     70.0       FALSO   sim\n",
      "9      chuva    75.000000    100.0       FALSO   sim\n",
      "10       sol    75.000000     70.0  VERDADEIRO   sim\n",
      "11   nublado    72.000000     90.0  VERDADEIRO   sim\n",
      "12   nublado    81.000000     75.0       FALSO   sim\n",
      "13     chuva    71.000000     91.0  VERDADEIRO   nao\n",
      "Aparencia      0\n",
      "Temperatura    0\n",
      "Umidade        0\n",
      "Vento          0\n",
      "Jogar          0\n",
      "dtype: int64\n"
     ]
    }
   ],
   "source": [
    "# Visualizar o DataFrame tratado\n",
    "print(df)\n",
    "\n",
    "# Verificar novamente os valores nulos\n",
    "print(df.isnull().sum())"
   ]
  },
  {
   "cell_type": "markdown",
   "metadata": {},
   "source": [
    "Análise exploratória "
   ]
  },
  {
   "cell_type": "code",
   "execution_count": 189,
   "metadata": {},
   "outputs": [
    {
     "data": {
      "image/png": "[encoded data removed]",
      "text/plain": [
       "<Figure size 640x480 with 1 Axes>"
      ]
     },
     "metadata": {},
     "output_type": "display_data"
    },
    {
     "data": {
      "image/png": "[encoded data removed]",
      "text/plain": [
       "<Figure size 640x480 with 1 Axes>"
      ]
     },
     "metadata": {},
     "output_type": "display_data"
    }
   ],
   "source": [
    "# Gráfico de contagem para a coluna \"Jogar\"\n",
    "sns.countplot(data=df, x='Jogar')\n",
    "plt.title('Distribuição da coluna Jogar')\n",
    "plt.show()\n",
    "\n",
    "# Gráfico de dispersão entre Temperatura e Umidade\n",
    "sns.scatterplot(data=df, x='Temperatura', y='Umidade', hue='Jogar')\n",
    "plt.title('Relação entre Temperatura e Umidade')\n",
    "plt.show()"
   ]
  }
 ],
 "metadata": {
  "kernelspec": {
   "display_name": "Python 3",
   "language": "python",
   "name": "python3"
  },
  "language_info": {
   "codemirror_mode": {
    "name": "ipython",
    "version": 3
   },
   "file_extension": ".py",
   "mimetype": "text/x-python",
   "name": "python",
   "nbconvert_exporter": "python",
   "pygments_lexer": "ipython3",
   "version": "3.12.3"
  }
 },
 "nbformat": 4,
 "nbformat_minor": 2
}
