{
 "cells": [
  {
   "cell_type": "code",
   "execution_count": 3,
   "id": "60f01186-64ec-45f5-9ce8-6d1703d749fc",
   "metadata": {},
   "outputs": [],
   "source": [
    "import numpy as np"
   ]
  },
  {
   "cell_type": "code",
   "execution_count": 9,
   "id": "c37df78e-e1a8-4b25-b6f7-f7d6427f7823",
   "metadata": {},
   "outputs": [
    {
     "name": "stdout",
     "output_type": "stream",
     "text": [
      "[ 12  13  14  15  16 167]\n",
      "<class 'numpy.ndarray'>\n"
     ]
    }
   ],
   "source": [
    "matriz = np.array([12,13,14,15,16,167])\n",
    "print(matriz)\n",
    "print(type(matriz))"
   ]
  },
  {
   "cell_type": "code",
   "execution_count": 11,
   "id": "69e6bd86-c53f-40af-a580-732efc71f581",
   "metadata": {},
   "outputs": [
    {
     "name": "stdout",
     "output_type": "stream",
     "text": [
      "[1. 2. 3.]\n"
     ]
    }
   ],
   "source": [
    "matrizfloat = np.array([1,2,3],dtype = np.float64)\n",
    "print (matrizfloat)"
   ]
  },
  {
   "cell_type": "code",
   "execution_count": 13,
   "id": "5d8199fd-4736-4c8c-9e24-5a35c57380a0",
   "metadata": {},
   "outputs": [
    {
     "name": "stdout",
     "output_type": "stream",
     "text": [
      "[0.92933898 0.79133295 0.45161405 0.14012117 0.60475565]\n"
     ]
    }
   ],
   "source": [
    "aleatorio = np.random.random((5))\n",
    "print (aleatorio)"
   ]
  },
  {
   "cell_type": "code",
   "execution_count": 15,
   "id": "29ca56a3-9598-4fa1-9dc5-3f5d6335ac6f",
   "metadata": {},
   "outputs": [
    {
     "name": "stdout",
     "output_type": "stream",
     "text": [
      "[[0.87581278 0.3334556  0.73200184]\n",
      " [0.66626472 0.42839479 0.98511836]\n",
      " [0.92628255 0.94961815 0.97228439]\n",
      " [0.57162889 0.31779434 0.50970158]\n",
      " [0.05193363 0.055701   0.04457863]]\n"
     ]
    }
   ],
   "source": [
    "aleatorio = np.random.random((5,3))\n",
    "print (aleatorio)"
   ]
  },
  {
   "cell_type": "code",
   "execution_count": 19,
   "id": "a3ed1dd6-b28f-4b70-ae92-4556b8f4bb37",
   "metadata": {},
   "outputs": [
    {
     "name": "stdout",
     "output_type": "stream",
     "text": [
      "[10 11 12 13 14 11 10 15 19 20]\n",
      "[10 11 12 13 14 15 19 20]\n"
     ]
    }
   ],
   "source": [
    "numeros = np.array([10, 11, 12, 13, 14, 11, 10, 15, 19, 20])\n",
    "print(numeros)\n",
    "numeros = np.unique(numeros)\n",
    "print(numeros)"
   ]
  },
  {
   "cell_type": "code",
   "execution_count": null,
   "id": "624405e6-91c7-4fb7-b8c7-058440d7aae4",
   "metadata": {},
   "outputs": [],
   "source": []
  }
 ],
 "metadata": {
  "kernelspec": {
   "display_name": "Python 3 (ipykernel)",
   "language": "python",
   "name": "python3"
  },
  "language_info": {
   "codemirror_mode": {
    "name": "ipython",
    "version": 3
   },
   "file_extension": ".py",
   "mimetype": "text/x-python",
   "name": "python",
   "nbconvert_exporter": "python",
   "pygments_lexer": "ipython3",
   "version": "3.12.4"
  }
 },
 "nbformat": 4,
 "nbformat_minor": 5
}
