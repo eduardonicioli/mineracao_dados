{
 "cells": [
  {
   "cell_type": "code",
   "execution_count": 32,
   "id": "6b080288-5c6c-4706-826f-571e96bd296d",
   "metadata": {},
   "outputs": [],
   "source": [
    "import statistics as es"
   ]
  },
  {
   "cell_type": "code",
   "execution_count": 15,
   "id": "82698fb4-cf1a-4c6b-9562-f48886366562",
   "metadata": {},
   "outputs": [
    {
     "name": "stdout",
     "output_type": "stream",
     "text": [
      "25\n",
      "25.0\n"
     ]
    }
   ],
   "source": [
    "z= [10,20,30,40]\n",
    "x = es.mean(z)\n",
    "y = es.median(z)\n",
    "print (x)\n",
    "print (y)"
   ]
  },
  {
   "cell_type": "code",
   "execution_count": 19,
   "id": "563d7a6e-c2d7-4ccc-84e9-15ae205630dd",
   "metadata": {},
   "outputs": [
    {
     "name": "stdout",
     "output_type": "stream",
     "text": [
      "25\n",
      "25.0\n"
     ]
    }
   ],
   "source": [
    "from statistics import mean, median\n",
    "z= [10,20,30,40]\n",
    "x = mean(z)\n",
    "y = median(z)\n",
    "print (x)\n",
    "print (y)"
   ]
  },
  {
   "cell_type": "code",
   "execution_count": 38,
   "id": "c1f1bc81-0bfb-4056-a6d2-32b6cd63ab73",
   "metadata": {},
   "outputs": [
    {
     "name": "stdout",
     "output_type": "stream",
     "text": [
      "maior valor 60\n",
      "menor valor 1\n",
      "soma dos valores 116\n",
      "media 16.571428571428573\n",
      "arredondamento 17\n",
      "arredondamento 12\n"
     ]
    }
   ],
   "source": [
    "lista = [1,2,4,4,5,40,60]\n",
    "print (\"maior valor\", max(lista))\n",
    "print (\"menor valor\", min(lista))\n",
    "print (\"soma dos valores\", sum(lista))\n",
    "print (\"media\", mean(lista))\n",
    "print (\"arredondamento\", round(mean(lista)))\n",
    "print (\"arredondamento\", round(12.234234))"
   ]
  },
  {
   "cell_type": "code",
   "execution_count": 42,
   "id": "4bacf4b1-d549-4e4e-b89d-ae07b8bad91c",
   "metadata": {},
   "outputs": [
    {
     "name": "stdout",
     "output_type": "stream",
     "text": [
      "media 16.571428571428573\n",
      "mediana 4\n",
      "moda 4\n",
      "desvio padrao 23.59277532676153\n",
      "variancia 556.6190476190476\n"
     ]
    }
   ],
   "source": [
    "from statistics import *\n",
    "print (\"media\", mean(lista))\n",
    "print (\"mediana\", median(lista))\n",
    "print (\"moda\", mode(lista))\n",
    "print (\"desvio padrao\", stdev(lista))\n",
    "print (\"variancia\",variance(lista))"
   ]
  },
  {
   "cell_type": "code",
   "execution_count": null,
   "id": "54312a64-8b4e-4ec5-a932-2ad01ced703f",
   "metadata": {},
   "outputs": [],
   "source": []
  }
 ],
 "metadata": {
  "kernelspec": {
   "display_name": "Python 3 (ipykernel)",
   "language": "python",
   "name": "python3"
  },
  "language_info": {
   "codemirror_mode": {
    "name": "ipython",
    "version": 3
   },
   "file_extension": ".py",
   "mimetype": "text/x-python",
   "name": "python",
   "nbconvert_exporter": "python",
   "pygments_lexer": "ipython3",
   "version": "3.12.4"
  }
 },
 "nbformat": 4,
 "nbformat_minor": 5
}
