{
 "cells": [
  {
   "cell_type": "code",
   "execution_count": 5,
   "id": "7bb9a202-9c3b-4982-988a-49faa19ca956",
   "metadata": {},
   "outputs": [
    {
     "name": "stdout",
     "output_type": "stream",
     "text": [
      "teste função\n"
     ]
    }
   ],
   "source": [
    "def imprime():\n",
    "    print (\"teste função\")\n",
    "\n",
    "imprime()"
   ]
  },
  {
   "cell_type": "code",
   "execution_count": 6,
   "id": "307c7c3a-243d-4501-aa20-17edff25e0e8",
   "metadata": {},
   "outputs": [
    {
     "name": "stdout",
     "output_type": "stream",
     "text": [
      "testando\n"
     ]
    }
   ],
   "source": [
    "#passagem parametro\n",
    "def imprime(valor):\n",
    "    print(valor)\n",
    "\n",
    "imprime(\"testando\")"
   ]
  },
  {
   "cell_type": "code",
   "execution_count": 7,
   "id": "9d7ced71-0bdb-4ece-91eb-ee49df19924b",
   "metadata": {},
   "outputs": [
    {
     "name": "stdout",
     "output_type": "stream",
     "text": [
      "16\n"
     ]
    }
   ],
   "source": [
    "#função com retorno\n",
    "def potencia(n):\n",
    "    return n*n\n",
    "\n",
    "x=potencia(4)\n",
    "print (x)"
   ]
  },
  {
   "cell_type": "code",
   "execution_count": 8,
   "id": "49787e87-7a75-4420-8ca0-2be0f89020bb",
   "metadata": {},
   "outputs": [
    {
     "name": "stdout",
     "output_type": "stream",
     "text": [
      "1\n",
      "2\n",
      "3\n",
      "4\n",
      "5\n",
      "6\n",
      "7\n",
      "8\n",
      "9\n",
      "10\n",
      "1\n",
      "2\n",
      "3\n",
      "4\n",
      "5\n",
      "6\n",
      "7\n",
      "8\n",
      "9\n",
      "10\n"
     ]
    }
   ],
   "source": [
    "def intervalo(inic=1,fim=10):\n",
    "    for n in range(inic,fim+1):\n",
    "        print (n)\n",
    "\n",
    "x = intervalo(1,10)\n",
    "y = intervalo()"
   ]
  },
  {
   "cell_type": "code",
   "execution_count": null,
   "id": "0f7414e4-0f2b-489f-9431-2a16efa70b0e",
   "metadata": {},
   "outputs": [],
   "source": []
  }
 ],
 "metadata": {
  "kernelspec": {
   "display_name": "Python 3",
   "language": "python",
   "name": "python3"
  },
  "language_info": {
   "codemirror_mode": {
    "name": "ipython",
    "version": 3
   },
   "file_extension": ".py",
   "mimetype": "text/x-python",
   "name": "python",
   "nbconvert_exporter": "python",
   "pygments_lexer": "ipython3",
   "version": "3.12.3"
  }
 },
 "nbformat": 4,
 "nbformat_minor": 5
}
