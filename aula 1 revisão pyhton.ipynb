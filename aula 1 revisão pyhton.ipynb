{
 "cells": [
  {
   "cell_type": "code",
   "execution_count": 2,
   "id": "c1d68297-bcf7-4e20-af04-9a95f5be8cd4",
   "metadata": {},
   "outputs": [
    {
     "name": "stdout",
     "output_type": "stream",
     "text": [
      "10\n",
      "fatec\n"
     ]
    },
    {
     "data": {
      "text/plain": [
       "100"
      ]
     },
     "execution_count": 2,
     "metadata": {},
     "output_type": "execute_result"
    }
   ],
   "source": [
    "#comentário revisão de phyton\n",
    "x=10\n",
    "print(x)\n",
    "y=\"fatec\"\n",
    "print(y)\n",
    "var=100\n",
    "var"
   ]
  },
  {
   "cell_type": "code",
   "execution_count": 44,
   "id": "64c35df1-8f8c-46ea-b475-750568d50851",
   "metadata": {},
   "outputs": [
    {
     "name": "stdout",
     "output_type": "stream",
     "text": [
      "False\n",
      "True\n"
     ]
    }
   ],
   "source": [
    "var1=True\n",
    "var2=False\n",
    "print(var2)\n",
    "print(var1)"
   ]
  },
  {
   "cell_type": "code",
   "execution_count": 45,
   "id": "785b8460-9b8a-45ac-91c8-8240a129a7db",
   "metadata": {},
   "outputs": [
    {
     "name": "stdout",
     "output_type": "stream",
     "text": [
      "10.5\n"
     ]
    }
   ],
   "source": [
    "valor=10.50\n",
    "print(valor)"
   ]
  },
  {
   "cell_type": "code",
   "execution_count": 3,
   "id": "299f9d96-6bc8-4783-9ded-d35a84e617c9",
   "metadata": {},
   "outputs": [
    {
     "name": "stdout",
     "output_type": "stream",
     "text": [
      "24.0\n"
     ]
    }
   ],
   "source": [
    "a=10\n",
    "b=70\n",
    "c=30\n",
    "d=(a+b)*c/100\n",
    "print(d)"
   ]
  },
  {
   "cell_type": "code",
   "execution_count": 47,
   "id": "91ecd05b-69e0-4cef-844f-f482d7130fa3",
   "metadata": {},
   "outputs": [
    {
     "name": "stdout",
     "output_type": "stream",
     "text": [
      "Menssagem do texto 24.0\n",
      "Menssagem seguinte 100 Texto\n"
     ]
    }
   ],
   "source": [
    "print (\"Menssagem do texto\", d)\n",
    "x=100\n",
    "print(\"Menssagem seguinte\", x, \"Texto\")"
   ]
  },
  {
   "cell_type": "code",
   "execution_count": 48,
   "id": "d5438a2b-87aa-483b-8a7f-166ba789125b",
   "metadata": {},
   "outputs": [
    {
     "name": "stdout",
     "output_type": "stream",
     "text": [
      "<class 'int'>\n",
      "<class 'str'>\n",
      "<class 'bool'>\n"
     ]
    }
   ],
   "source": [
    "print(type(x))\n",
    "print(type(y))\n",
    "print(type(var1))"
   ]
  },
  {
   "cell_type": "code",
   "execution_count": 49,
   "id": "31595b11-b19c-4476-a531-66f46e9fc3b6",
   "metadata": {},
   "outputs": [
    {
     "name": "stdout",
     "output_type": "stream",
     "text": [
      "informe seu nome\n",
      "<class 'str'>\n",
      "\n"
     ]
    }
   ],
   "source": [
    "print (\"informe seu nome\")\n",
    "nome = input()\n",
    "print(type(nome))\n",
    "print(nome)"
   ]
  },
  {
   "cell_type": "code",
   "execution_count": 50,
   "id": "cd3c5718-e06a-472c-81b8-4ba410ff5525",
   "metadata": {},
   "outputs": [
    {
     "name": "stdout",
     "output_type": "stream",
     "text": [
      "<class 'str'>\n",
      "\n"
     ]
    }
   ],
   "source": [
    "nome = input(\"informe seu nome\")\n",
    "print(type(nome))\n",
    "print(nome)"
   ]
  },
  {
   "cell_type": "code",
   "execution_count": null,
   "id": "dfc4b2f9-258d-4a80-8ccb-943d740f7e40",
   "metadata": {
    "scrolled": true
   },
   "outputs": [],
   "source": [
    "#conversão de tipos\n",
    "valor1 = input(\"informe valor\")\n",
    "print (type(valor1))\n",
    "valor1 = int(valor1)\n",
    "print (type(valor1))\n",
    "valor1 = float(valor1)\n",
    "print (type(valor1))\n",
    "       "
   ]
  },
  {
   "cell_type": "code",
   "execution_count": null,
   "id": "3ba729aa-fd4e-437a-91bf-34fa4bcf4d51",
   "metadata": {},
   "outputs": [
    {
     "name": "stdout",
     "output_type": "stream",
     "text": [
      "sua nota é 8\n",
      "aprovado!\n",
      "muito bom!!\n"
     ]
    }
   ],
   "source": [
    "#estrutura de decisão\n",
    "nota = input(\"informe a nota\")\n",
    "print (\"sua nota é\", nota)\n",
    "nota = int(nota)\n",
    "if nota >= 6:\n",
    "    print (\"aprovado!\")\n",
    "    print (\"muito bom!!\")\n",
    "else:\n",
    "    print (\"reprovado\")"
   ]
  },
  {
   "cell_type": "code",
   "execution_count": null,
   "id": "06feee05",
   "metadata": {},
   "outputs": [
    {
     "name": "stdout",
     "output_type": "stream",
     "text": [
      "1\n",
      "2\n",
      "3\n",
      "4\n",
      "5\n",
      "6\n",
      "7\n",
      "8\n",
      "9\n",
      "10\n",
      "1\n",
      "2\n",
      "3\n",
      "4\n",
      "5\n",
      "6\n",
      "7\n",
      "8\n",
      "9\n"
     ]
    }
   ],
   "source": [
    "#estrutura de repetição\n",
    "contador=1\n",
    "while contador <= 10:\n",
    "    print(contador)\n",
    "    contador += 1\n",
    "    \n",
    "for contador in range(1,10):\n",
    "    print(contador)"
   ]
  },
  {
   "cell_type": "code",
   "execution_count": null,
   "id": "658a8b62",
   "metadata": {},
   "outputs": [
    {
     "name": "stdout",
     "output_type": "stream",
     "text": [
      "11\n",
      "10\n",
      "9\n",
      "8\n",
      "7\n",
      "6\n"
     ]
    }
   ],
   "source": [
    "for contador in range(11,1,-1):\n",
    "    if contador == 5:\n",
    "        break\n",
    "    print(contador)"
   ]
  },
  {
   "cell_type": "code",
   "execution_count": null,
   "id": "7111db66",
   "metadata": {},
   "outputs": [
    {
     "name": "stdout",
     "output_type": "stream",
     "text": [
      "11\n",
      "10\n",
      "9\n",
      "8\n",
      "7\n",
      "6\n",
      "4\n",
      "3\n",
      "2\n"
     ]
    }
   ],
   "source": [
    "for contador in range(11,1,-1):\n",
    "    if contador == 5:\n",
    "        continue\n",
    "    print(contador)"
   ]
  },
  {
   "cell_type": "code",
   "execution_count": null,
   "id": "15f26b20",
   "metadata": {},
   "outputs": [
    {
     "name": "stdout",
     "output_type": "stream",
     "text": [
      "[1, 2, 3, 4, 5, 6]\n",
      "[1, 2, 3, '4', 5, True]\n",
      "[0, 1, 2, 3, 4, 5, 6, 7, 8, 9]\n",
      "6\n",
      "6\n",
      "10\n"
     ]
    }
   ],
   "source": [
    "#list#\n",
    "lista1 = [1,2,3,4,5,6]\n",
    "print(lista1)\n",
    "lista2 = [1,2,3,\"4\",5,True]\n",
    "print(lista2)\n",
    "lista3 = list(range(0,10))\n",
    "print(lista3)\n",
    "print(len(lista1))\n",
    "print(len(lista2))\n",
    "print(len(lista3))"
   ]
  },
  {
   "cell_type": "code",
   "execution_count": null,
   "id": "b5e81c1c",
   "metadata": {},
   "outputs": [
    {
     "name": "stdout",
     "output_type": "stream",
     "text": [
      "[1, 2, [1, 2, 3, 4], 'x']\n",
      "4\n"
     ]
    }
   ],
   "source": [
    "lista4=[1,2,[1,2,3,4], \"x\"]\n",
    "print(lista4)\n",
    "print(len(lista4))"
   ]
  },
  {
   "cell_type": "code",
   "execution_count": null,
   "id": "65085a24",
   "metadata": {},
   "outputs": [
    {
     "name": "stdout",
     "output_type": "stream",
     "text": [
      "6.0\n",
      "{'Joao': 6.0, 'Maria': 8.0, 'Pedro': 6.5}\n",
      "{'Joao': 6.0, 'Maria': 8.0, 'Pedro': 6.5, 'Fennando': 8, 'Ana': 9}\n",
      "{'Maria': 8.0, 'Pedro': 6.5, 'Fennando': 8, 'Ana': 9}\n"
     ]
    },
    {
     "data": {
      "text/plain": [
       "8.0"
      ]
     },
     "execution_count": 24,
     "metadata": {},
     "output_type": "execute_result"
    }
   ],
   "source": [
    "#estruturas phyton\n",
    "notas = {'Joao':6.0, 'Maria': 8.0, 'Pedro': 6.5}\n",
    "print(notas['Joao'])\n",
    "notas.keys()\n",
    "print(notas)\n",
    "\n",
    "\n",
    "del notas['Joao']\n",
    "print(notas)\n",
    "\n",
    "#notas.get('Sandro', \"não encontrado\")\n",
    "notas.get('Maria', \"não encontrado\")\n",
    "\n"
   ]
  },
  {
   "cell_type": "code",
   "execution_count": 27,
   "id": "0148c03c",
   "metadata": {},
   "outputs": [
    {
     "name": "stdout",
     "output_type": "stream",
     "text": [
      "{'Maria': 8.0, 'Pedro': 6.5, 'Fennando': 8, 'Ana': 9}\n"
     ]
    }
   ],
   "source": [
    "notas['Fennando'] = 8\n",
    "notas['Ana'] = 9\n",
    "print(notas)"
   ]
  },
  {
   "cell_type": "code",
   "execution_count": 12,
   "id": "8adf69dc",
   "metadata": {},
   "outputs": [
    {
     "name": "stdout",
     "output_type": "stream",
     "text": [
      "{'valor1, valor2, valor3'}\n"
     ]
    }
   ],
   "source": [
    "bigdata = {'valor1, valor2, valor3'}\n",
    "print(bigdata)"
   ]
  },
  {
   "cell_type": "code",
   "execution_count": 14,
   "id": "6a6c630f",
   "metadata": {},
   "outputs": [
    {
     "name": "stdout",
     "output_type": "stream",
     "text": [
      "False\n"
     ]
    }
   ],
   "source": [
    "print('valor1' in bigdata)"
   ]
  },
  {
   "cell_type": "code",
   "execution_count": 17,
   "id": "91c03576",
   "metadata": {},
   "outputs": [
    {
     "data": {
      "text/plain": [
       "{'valor1, valor2, valor3', 'valor10'}"
      ]
     },
     "execution_count": 17,
     "metadata": {},
     "output_type": "execute_result"
    }
   ],
   "source": [
    "bigdata.add('valor10')\n",
    "bigdata"
   ]
  },
  {
   "cell_type": "code",
   "execution_count": 25,
   "id": "af7f4172",
   "metadata": {},
   "outputs": [
    {
     "name": "stdout",
     "output_type": "stream",
     "text": [
      "2\n"
     ]
    }
   ],
   "source": [
    "print(len(bigdata))"
   ]
  },
  {
   "cell_type": "code",
   "execution_count": 30,
   "id": "001ac204",
   "metadata": {},
   "outputs": [
    {
     "data": {
      "text/plain": [
       "{'valor1', 'valor1, valor2, valor3', 'valor10'}"
      ]
     },
     "execution_count": 30,
     "metadata": {},
     "output_type": "execute_result"
    }
   ],
   "source": [
    "bigdata.add('valor1')\n",
    "bigdata"
   ]
  },
  {
   "cell_type": "code",
   "execution_count": 34,
   "id": "f7db745c",
   "metadata": {},
   "outputs": [
    {
     "name": "stdout",
     "output_type": "stream",
     "text": [
      "<class 'dict'>\n",
      "<class 'set'>\n"
     ]
    }
   ],
   "source": [
    "print(type(notas))\n",
    "print(type(bigdata))"
   ]
  },
  {
   "cell_type": "markdown",
   "id": "f22cbfda",
   "metadata": {},
   "source": [
    "<H4><B>TUPULAS - Listas que não podem ser modificadas. "
   ]
  },
  {
   "cell_type": "code",
   "execution_count": 42,
   "id": "7fc605b3",
   "metadata": {},
   "outputs": [
    {
     "name": "stdout",
     "output_type": "stream",
     "text": [
      "[1, 2, 3, 4, 5, 6, 7, 8]\n"
     ]
    },
    {
     "data": {
      "text/plain": [
       "(1, 2, 3, 4, 5, 6, 7, 8, 9)"
      ]
     },
     "execution_count": 42,
     "metadata": {},
     "output_type": "execute_result"
    }
   ],
   "source": [
    "lista = [1,2,3,4,5,6,7,8,]\n",
    "print(lista)\n",
    "tupla = (1,2,3,4,5,6,7,8,9)\n",
    "tupla"
   ]
  },
  {
   "cell_type": "code",
   "execution_count": 43,
   "id": "2135a216",
   "metadata": {},
   "outputs": [
    {
     "name": "stdout",
     "output_type": "stream",
     "text": [
      "<class 'list'>\n",
      "<class 'tuple'>\n"
     ]
    }
   ],
   "source": [
    "print(type(lista))\n",
    "print(type(tupla))"
   ]
  }
 ],
 "metadata": {
  "kernelspec": {
   "display_name": "Python 3",
   "language": "python",
   "name": "python3"
  },
  "language_info": {
   "codemirror_mode": {
    "name": "ipython",
    "version": 3
   },
   "file_extension": ".py",
   "mimetype": "text/x-python",
   "name": "python",
   "nbconvert_exporter": "python",
   "pygments_lexer": "ipython3",
   "version": "3.12.3"
  }
 },
 "nbformat": 4,
 "nbformat_minor": 5
}
