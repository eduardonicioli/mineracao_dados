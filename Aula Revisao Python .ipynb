{
 "cells": [
  {
   "cell_type": "code",
   "execution_count": 6,
   "id": "fe36c434-27bb-42f5-b977-79b0652fd3bf",
   "metadata": {},
   "outputs": [
    {
     "name": "stdout",
     "output_type": "stream",
     "text": [
      "10\n",
      "fatec\n"
     ]
    },
    {
     "data": {
      "text/plain": [
       "100"
      ]
     },
     "execution_count": 6,
     "metadata": {},
     "output_type": "execute_result"
    }
   ],
   "source": [
    "#comentario \n",
    "x=10\n",
    "print(x)\n",
    "y=\"fatec\"\n",
    "print(y)\n",
    "var=100\n",
    "var"
   ]
  },
  {
   "cell_type": "code",
   "execution_count": 10,
   "id": "381f4afc-2c85-4378-9351-f954be4029ac",
   "metadata": {},
   "outputs": [
    {
     "name": "stdout",
     "output_type": "stream",
     "text": [
      "False\n",
      "10.5\n"
     ]
    }
   ],
   "source": [
    "var1=True\n",
    "var2=False\n",
    "print (var2)\n",
    "valor=10.50\n",
    "print (valor)\n"
   ]
  },
  {
   "cell_type": "code",
   "execution_count": 12,
   "id": "1453d35c-4e2f-4081-9bbd-3a8727dc40b8",
   "metadata": {},
   "outputs": [
    {
     "name": "stdout",
     "output_type": "stream",
     "text": [
      "9.0\n"
     ]
    }
   ],
   "source": [
    "a=10\n",
    "b=20\n",
    "c=30\n",
    "d=(a+b)*c/100\n",
    "print(d)"
   ]
  },
  {
   "cell_type": "code",
   "execution_count": 14,
   "id": "ce7fbe21-c962-4f16-ad86-b6808cf81348",
   "metadata": {},
   "outputs": [
    {
     "name": "stdout",
     "output_type": "stream",
     "text": [
      "mensagem do texto 9.0\n",
      "mensagem seguinte 100  texto\n"
     ]
    }
   ],
   "source": [
    "print (\"mensagem do texto\", d)\n",
    "x=100\n",
    "print (\"mensagem seguinte\", x, \" texto\")"
   ]
  },
  {
   "cell_type": "code",
   "execution_count": 16,
   "id": "e70d2b54-f3c4-48bf-8699-f569d6347054",
   "metadata": {},
   "outputs": [
    {
     "name": "stdout",
     "output_type": "stream",
     "text": [
      "<class 'int'>\n",
      "<class 'str'>\n",
      "<class 'bool'>\n"
     ]
    }
   ],
   "source": [
    "print(type(x))\n",
    "print(type(y))\n",
    "print(type(var1))"
   ]
  },
  {
   "cell_type": "code",
   "execution_count": 20,
   "id": "bbb2cbfd-65d7-4a8e-9de7-d2f671b20325",
   "metadata": {},
   "outputs": [
    {
     "name": "stdout",
     "output_type": "stream",
     "text": [
      "informe seu nome\n"
     ]
    },
    {
     "name": "stdin",
     "output_type": "stream",
     "text": [
      " 10\n"
     ]
    },
    {
     "name": "stdout",
     "output_type": "stream",
     "text": [
      "<class 'str'>\n",
      "10\n"
     ]
    }
   ],
   "source": [
    "print (\"informe seu nome\")\n",
    "nome = input()\n",
    "print(type(nome))\n",
    "print(nome)"
   ]
  },
  {
   "cell_type": "code",
   "execution_count": 24,
   "id": "5649793d-c167-4168-ab1d-d7fa95305178",
   "metadata": {},
   "outputs": [
    {
     "name": "stdin",
     "output_type": "stream",
     "text": [
      "informe seu nome d\n"
     ]
    },
    {
     "name": "stdout",
     "output_type": "stream",
     "text": [
      "d\n"
     ]
    }
   ],
   "source": [
    "nome2 = input(\"informe seu nome\")\n",
    "print(nome2)"
   ]
  },
  {
   "cell_type": "code",
   "execution_count": 40,
   "id": "137747ce-8dc0-46ab-ac8d-129133ceb828",
   "metadata": {},
   "outputs": [
    {
     "name": "stdin",
     "output_type": "stream",
     "text": [
      "informe valor 9\n"
     ]
    },
    {
     "name": "stdout",
     "output_type": "stream",
     "text": [
      "<class 'str'>\n",
      "<class 'int'>\n",
      "<class 'float'>\n"
     ]
    }
   ],
   "source": [
    "#conversao de tipos\n",
    "valor1= input(\"informe valor\")\n",
    "print (type(valor1))\n",
    "valor1 = int(valor1)\n",
    "print (type(valor1))\n",
    "valor1 = float(valor1)\n",
    "print (type(valor1))\n"
   ]
  },
  {
   "cell_type": "code",
   "execution_count": 54,
   "id": "3601c243-63c7-48c9-816a-9b6dcb959e67",
   "metadata": {},
   "outputs": [
    {
     "name": "stdin",
     "output_type": "stream",
     "text": [
      "informe a nota 2\n"
     ]
    },
    {
     "name": "stdout",
     "output_type": "stream",
     "text": [
      "sua nota é  2\n",
      "reprovado\n"
     ]
    }
   ],
   "source": [
    "#estrutura de decisao\n",
    "nota= input(\"informe a nota\")\n",
    "print (\"sua nota é \",nota)\n",
    "nota = int(nota)\n",
    "if nota >= 6:    # <  >  <=   >=  ==   !=      and or\n",
    "    print (\"aprovado\")\n",
    "    print (\"muito bom!!!\")\n",
    "else:\n",
    "    print (\"reprovado\")\n"
   ]
  },
  {
   "cell_type": "code",
   "execution_count": 58,
   "id": "d0ac5510-ba2b-4efd-abef-177da6e3edd7",
   "metadata": {},
   "outputs": [
    {
     "name": "stdout",
     "output_type": "stream",
     "text": [
      "1\n",
      "2\n",
      "3\n",
      "4\n",
      "5\n",
      "6\n",
      "7\n",
      "8\n",
      "9\n",
      "10\n",
      "1\n",
      "2\n",
      "3\n",
      "4\n",
      "5\n",
      "6\n",
      "7\n",
      "8\n",
      "9\n",
      "10\n"
     ]
    }
   ],
   "source": [
    "#estrutura de repetição\n",
    "contador=1\n",
    "while contador <= 10:\n",
    "    print(contador)\n",
    "    contador += 1\n",
    "\n",
    "for contador in range(1,11):\n",
    "    print(contador)"
   ]
  },
  {
   "cell_type": "code",
   "execution_count": 64,
   "id": "d0ed8eca-f430-439a-ae5e-9a303fd20186",
   "metadata": {},
   "outputs": [
    {
     "name": "stdout",
     "output_type": "stream",
     "text": [
      "11\n",
      "10\n",
      "9\n",
      "8\n",
      "7\n",
      "6\n"
     ]
    }
   ],
   "source": [
    "for contador in range(11,1,-1):\n",
    "    if contador == 5:\n",
    "        break\n",
    "    print(contador)"
   ]
  },
  {
   "cell_type": "code",
   "execution_count": 66,
   "id": "dcb24bca-392a-459c-9c74-34534058bbc4",
   "metadata": {},
   "outputs": [
    {
     "name": "stdout",
     "output_type": "stream",
     "text": [
      "11\n",
      "10\n",
      "9\n",
      "8\n",
      "7\n",
      "6\n",
      "4\n",
      "3\n",
      "2\n"
     ]
    }
   ],
   "source": [
    "for contador in range(11,1,-1):\n",
    "    if contador == 5:\n",
    "        continue\n",
    "    print(contador)"
   ]
  },
  {
   "cell_type": "code",
   "execution_count": 72,
   "id": "6396e478-29e9-45d0-b47c-0f79a6f9fe2f",
   "metadata": {},
   "outputs": [
    {
     "name": "stdout",
     "output_type": "stream",
     "text": [
      "[1, 2, 3, 4, 5, 6]\n",
      "[1, 2, 3, '4', 5, True]\n",
      "[1, 2, 3, 4, 5, 6, 7, 8, 9]\n",
      "6\n",
      "6\n",
      "9\n",
      "4\n",
      "[1, 2, 3, 4, 98, 6, 7, 8, 9]\n"
     ]
    }
   ],
   "source": [
    "#lista\n",
    "lista1 = [1,2,3,4,5,6]\n",
    "print(lista1)\n",
    "lista2 = [1,2,3,\"4\",5,True]\n",
    "print(lista2)\n",
    "lista3 = list(range(1,10))\n",
    "print(lista3)\n",
    "print(len(lista1))\n",
    "print(len(lista2))\n",
    "print(len(lista3))\n",
    "print(lista2[3])\n",
    "lista3[4]=98\n",
    "print(lista3)"
   ]
  },
  {
   "cell_type": "code",
   "execution_count": 74,
   "id": "d0dc2650-99ef-48f7-ba9e-df89c4dae295",
   "metadata": {},
   "outputs": [
    {
     "name": "stdout",
     "output_type": "stream",
     "text": [
      "[1, 2, [1, 2, 3, 4], 'x']\n"
     ]
    }
   ],
   "source": [
    "lista4=[1,2,[1,2,3,4],\"x\"]\n",
    "print(lista4)"
   ]
  },
  {
   "cell_type": "code",
   "execution_count": null,
   "id": "4651ef41-9535-41a6-afdb-08c3d1a6adad",
   "metadata": {},
   "outputs": [],
   "source": [
    "#============================================================="
   ]
  },
  {
   "cell_type": "code",
   "execution_count": 84,
   "id": "cd65d612-7498-481a-a410-aa9c02f08ac3",
   "metadata": {},
   "outputs": [
    {
     "name": "stdout",
     "output_type": "stream",
     "text": [
      "6.0\n",
      "{'João': 6.0, 'Maria': 8.0, 'Pedro': 6.5}\n"
     ]
    }
   ],
   "source": [
    "#estruturas no python\n",
    "notas = {'João': 6.0, 'Maria': 8.0, 'Pedro': 6.5}\n",
    "print(notas['João'])\n",
    "notas.keys()\n",
    "print(notas)"
   ]
  },
  {
   "cell_type": "code",
   "execution_count": null,
   "id": "656c4494-783b-46d0-acd7-b2e6891b4fc9",
   "metadata": {},
   "outputs": [],
   "source": []
  }
 ],
 "metadata": {
  "kernelspec": {
   "display_name": "Python 3 (ipykernel)",
   "language": "python",
   "name": "python3"
  },
  "language_info": {
   "codemirror_mode": {
    "name": "ipython",
    "version": 3
   },
   "file_extension": ".py",
   "mimetype": "text/x-python",
   "name": "python",
   "nbconvert_exporter": "python",
   "pygments_lexer": "ipython3",
   "version": "3.12.4"
  }
 },
 "nbformat": 4,
 "nbformat_minor": 5
}
